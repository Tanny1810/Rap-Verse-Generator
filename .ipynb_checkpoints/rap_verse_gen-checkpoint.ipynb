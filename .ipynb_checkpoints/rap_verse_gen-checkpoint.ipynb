{
 "cells": [
  {
   "cell_type": "markdown",
   "id": "1a517d6b",
   "metadata": {},
   "source": [
    "# Rap Verse Generator"
   ]
  },
  {
   "cell_type": "markdown",
   "id": "f21bf3d9",
   "metadata": {
    "ExecuteTime": {
     "end_time": "2022-02-11T08:34:37.863545Z",
     "start_time": "2022-02-11T08:34:37.856544Z"
    }
   },
   "source": [
    "## import libraries"
   ]
  },
  {
   "cell_type": "code",
   "execution_count": 2,
   "id": "134f2c3d",
   "metadata": {
    "ExecuteTime": {
     "end_time": "2022-02-13T21:52:57.716788Z",
     "start_time": "2022-02-13T21:52:57.108651Z"
    }
   },
   "outputs": [],
   "source": [
    "import numpy as np\n",
    "import tensorflow as tf\n",
    "from keras.layers import LSTM\n",
    "from keras.layers import Dense, Dropout, Bidirectional, Embedding\n",
    "from keras.models import Sequential\n",
    "from keras.preprocessing.text import Tokenizer\n",
    "from keras.preprocessing.sequence import pad_sequences\n",
    "from keras import regularizers\n",
    "import tensorflow.keras.utils as ku\n",
    "import matplotlib.pyplot as plt"
   ]
  },
  {
   "cell_type": "markdown",
   "id": "f8e4e370",
   "metadata": {
    "ExecuteTime": {
     "end_time": "2022-02-11T08:35:22.409576Z",
     "start_time": "2022-02-11T08:35:22.398575Z"
    }
   },
   "source": [
    "## data load"
   ]
  },
  {
   "cell_type": "code",
   "execution_count": 3,
   "id": "a00d037e",
   "metadata": {
    "ExecuteTime": {
     "end_time": "2022-02-13T21:52:58.803033Z",
     "start_time": "2022-02-13T21:52:58.795030Z"
    }
   },
   "outputs": [
    {
     "name": "stdout",
     "output_type": "stream",
     "text": [
      "What's your life about? Enlighten me\n",
      "Is you gon' live on your knees or die on your feet?\n",
      "There's fire in the street, fire in the swisher\n",
      "Fire in between the two legs of your lil' sister\n",
      "Just get a sip of this elixir\n",
      "Before they crop us out the picture\n",
      "I've never seen a crop circle\n",
      "But I've cops circle the block, I puff squares\n",
      "But I swear one day I'ma stop, my nerves itch\n",
      "On the brink of my career while my peers struggle for employment\n",
      "Can you hear these screams? (Uncle Sam ain't no killing me)\n",
      "\n"
     ]
    }
   ],
   "source": [
    "## Kendrick Lamar Lyrics Data Set\n",
    "data = open('KL_Rap.txt').read()\n",
    "\n",
    "print(data[:500])"
   ]
  },
  {
   "cell_type": "markdown",
   "id": "cbf34455",
   "metadata": {},
   "source": [
    "## data preprocessing"
   ]
  },
  {
   "cell_type": "code",
   "execution_count": 4,
   "id": "898d01db",
   "metadata": {
    "ExecuteTime": {
     "end_time": "2022-02-13T21:53:01.342885Z",
     "start_time": "2022-02-13T21:53:00.796762Z"
    },
    "scrolled": true
   },
   "outputs": [],
   "source": [
    "from keras.preprocessing.text import text_to_word_sequence\n",
    "tokenizer = Tokenizer()\n",
    "y = text_to_word_sequence(data)\n",
    "max_sequence_len = len(y)\n",
    "# print(max_sequence_len)\n",
    "tokenizer.fit_on_texts(y)\n",
    "encoded_docs = tokenizer.texts_to_matrix(y, mode = 'count')\n",
    "\n",
    "# print(tokenizer.word_index)\n",
    "# print(encoded_docs)"
   ]
  },
  {
   "cell_type": "code",
   "execution_count": 5,
   "id": "b70ff22a",
   "metadata": {
    "ExecuteTime": {
     "end_time": "2022-02-13T21:53:03.429355Z",
     "start_time": "2022-02-13T21:53:03.418352Z"
    }
   },
   "outputs": [
    {
     "name": "stdout",
     "output_type": "stream",
     "text": [
      "vocabulary size: 4849\n"
     ]
    }
   ],
   "source": [
    "vocab = set(y)\n",
    "\n",
    "word_to_index = {w: i for i, w in enumerate(vocab)}\n",
    "index_to_word = {i: w for w, i in word_to_index.items()}\n",
    "word_indices = [word_to_index[word] for word in vocab]\n",
    "vocab_size = len(vocab)\n",
    "print('vocabulary size: {}'.format(vocab_size))"
   ]
  },
  {
   "cell_type": "code",
   "execution_count": 8,
   "id": "bf0483b9",
   "metadata": {
    "ExecuteTime": {
     "end_time": "2022-02-13T21:53:46.136781Z",
     "start_time": "2022-02-13T21:53:45.910730Z"
    }
   },
   "outputs": [],
   "source": [
    "tokenizer = Tokenizer()\n",
    "\n",
    "corpus = data.lower().split(\"\\n\")\n",
    "\n",
    "tokenizer.fit_on_texts(corpus)\n",
    "total_words = len(tokenizer.word_index) + 1\n",
    "\n",
    "## creating input sequences\n",
    "input_sequences = []\n",
    "for line in corpus:\n",
    "    token_list = tokenizer.texts_to_sequences([line])[0]\n",
    "#     print(\"token_list:\\n \",token_list)\n",
    "    for i in range(1, len(token_list)):\n",
    "        n_gram_sequence = token_list[:i+1]\n",
    "#         print(\"n_gram:\\n \",n_gram_sequence)\n",
    "        input_sequences.append(n_gram_sequence)\n",
    "        \n",
    "max_sequence_len = max([len(x) for x in input_sequences])\n",
    "input_sequences = np.array(pad_sequences(input_sequences, maxlen = max_sequence_len, padding='pre'))\n",
    "\n",
    "predictors, label = input_sequences[:,:-1], input_sequences[:,-1]\n",
    "\n",
    "label = ku.to_categorical(label, num_classes = total_words)"
   ]
  },
  {
   "cell_type": "code",
   "execution_count": 50,
   "id": "5637dd74",
   "metadata": {
    "ExecuteTime": {
     "end_time": "2022-02-13T19:19:50.189583Z",
     "start_time": "2022-02-13T19:19:50.175580Z"
    }
   },
   "outputs": [
    {
     "data": {
      "text/plain": [
       "(36587,)"
      ]
     },
     "execution_count": 50,
     "metadata": {},
     "output_type": "execute_result"
    }
   ],
   "source": [
    "input_sequences[:,-1].shape"
   ]
  },
  {
   "cell_type": "code",
   "execution_count": 11,
   "id": "1302e564",
   "metadata": {
    "ExecuteTime": {
     "end_time": "2022-02-13T21:54:06.872812Z",
     "start_time": "2022-02-13T21:54:06.857809Z"
    }
   },
   "outputs": [
    {
     "name": "stdout",
     "output_type": "stream",
     "text": [
      "(36587, 23)\n",
      "(36587, 4850)\n"
     ]
    }
   ],
   "source": [
    "print(predictors.shape)\n",
    "print(label.shape)"
   ]
  },
  {
   "cell_type": "markdown",
   "id": "86c10992",
   "metadata": {},
   "source": [
    "## model"
   ]
  },
  {
   "cell_type": "code",
   "execution_count": 59,
   "id": "98353620",
   "metadata": {
    "ExecuteTime": {
     "end_time": "2022-02-13T19:43:09.584952Z",
     "start_time": "2022-02-13T19:43:08.157636Z"
    }
   },
   "outputs": [
    {
     "name": "stdout",
     "output_type": "stream",
     "text": [
      "Model: \"sequential_4\"\n",
      "_________________________________________________________________\n",
      " Layer (type)                Output Shape              Param #   \n",
      "=================================================================\n",
      " embedding_4 (Embedding)     (None, 23, 100)           485000    \n",
      "                                                                 \n",
      " bidirectional_4 (Bidirectio  (None, 23, 300)          301200    \n",
      " nal)                                                            \n",
      "                                                                 \n",
      " dropout_4 (Dropout)         (None, 23, 300)           0         \n",
      "                                                                 \n",
      " lstm_9 (LSTM)               (None, 100)               160400    \n",
      "                                                                 \n",
      " dense_8 (Dense)             (None, 2425)              244925    \n",
      "                                                                 \n",
      " dense_9 (Dense)             (None, 4850)              11766100  \n",
      "                                                                 \n",
      "=================================================================\n",
      "Total params: 12,957,625\n",
      "Trainable params: 12,957,625\n",
      "Non-trainable params: 0\n",
      "_________________________________________________________________\n",
      "None\n"
     ]
    }
   ],
   "source": [
    "model = Sequential()\n",
    "\n",
    "model.add(Embedding(total_words, 100, input_length = max_sequence_len-1))\n",
    "model.add(Bidirectional(LSTM(150, return_sequences = True)))\n",
    "model.add(Dropout(0.2))\n",
    "model.add(LSTM(100))\n",
    "model.add(Dense(total_words/2, activation='relu', kernel_regularizer=regularizers.l2(0.01)))\n",
    "model.add(Dense(total_words, activation = 'softmax'))\n",
    "\n",
    "model.compile(loss='categorical_crossentropy', \n",
    "              optimizer = 'adam', \n",
    "              metrics = ['accuracy'])\n",
    "\n",
    "print(model.summary())"
   ]
  },
  {
   "cell_type": "markdown",
   "id": "648ca9d3",
   "metadata": {},
   "source": [
    "## model train"
   ]
  },
  {
   "cell_type": "code",
   "execution_count": 63,
   "id": "fc039141",
   "metadata": {
    "ExecuteTime": {
     "end_time": "2022-02-13T21:13:40.618467Z",
     "start_time": "2022-02-13T20:49:13.896500Z"
    },
    "scrolled": false
   },
   "outputs": [
    {
     "name": "stdout",
     "output_type": "stream",
     "text": [
      "Epoch 1/100\n",
      "1144/1144 [==============================] - 14s 12ms/step - loss: 2.8594 - accuracy: 0.4529\n",
      "Epoch 2/100\n",
      "1144/1144 [==============================] - 14s 12ms/step - loss: 2.8174 - accuracy: 0.4603\n",
      "Epoch 3/100\n",
      "1144/1144 [==============================] - 14s 12ms/step - loss: 2.7869 - accuracy: 0.4657\n",
      "Epoch 4/100\n",
      "1144/1144 [==============================] - 14s 13ms/step - loss: 2.7553 - accuracy: 0.4745\n",
      "Epoch 5/100\n",
      "1144/1144 [==============================] - 14s 12ms/step - loss: 2.7194 - accuracy: 0.4815\n",
      "Epoch 6/100\n",
      "1144/1144 [==============================] - 14s 12ms/step - loss: 2.6897 - accuracy: 0.4837\n",
      "Epoch 7/100\n",
      "1144/1144 [==============================] - 13s 11ms/step - loss: 2.6615 - accuracy: 0.4915\n",
      "Epoch 8/100\n",
      "1144/1144 [==============================] - 13s 12ms/step - loss: 2.6312 - accuracy: 0.4959\n",
      "Epoch 9/100\n",
      "1144/1144 [==============================] - 14s 12ms/step - loss: 2.5939 - accuracy: 0.5087\n",
      "Epoch 10/100\n",
      "1144/1144 [==============================] - 15s 13ms/step - loss: 2.5691 - accuracy: 0.5070\n",
      "Epoch 11/100\n",
      "1144/1144 [==============================] - 15s 13ms/step - loss: 2.5401 - accuracy: 0.5156\n",
      "Epoch 12/100\n",
      "1144/1144 [==============================] - 14s 12ms/step - loss: 2.5177 - accuracy: 0.5188\n",
      "Epoch 13/100\n",
      "1144/1144 [==============================] - 15s 13ms/step - loss: 2.4891 - accuracy: 0.5250\n",
      "Epoch 14/100\n",
      "1144/1144 [==============================] - 14s 12ms/step - loss: 2.4562 - accuracy: 0.5316\n",
      "Epoch 15/100\n",
      "1144/1144 [==============================] - 14s 12ms/step - loss: 2.4390 - accuracy: 0.5357\n",
      "Epoch 16/100\n",
      "1144/1144 [==============================] - 15s 13ms/step - loss: 2.4078 - accuracy: 0.5404\n",
      "Epoch 17/100\n",
      "1144/1144 [==============================] - 15s 13ms/step - loss: 2.3897 - accuracy: 0.5444\n",
      "Epoch 18/100\n",
      "1144/1144 [==============================] - 15s 13ms/step - loss: 2.3621 - accuracy: 0.5490\n",
      "Epoch 19/100\n",
      "1144/1144 [==============================] - 14s 12ms/step - loss: 2.3371 - accuracy: 0.5562\n",
      "Epoch 20/100\n",
      "1144/1144 [==============================] - 15s 13ms/step - loss: 2.3095 - accuracy: 0.5609\n",
      "Epoch 21/100\n",
      "1144/1144 [==============================] - 15s 13ms/step - loss: 2.2979 - accuracy: 0.5583\n",
      "Epoch 22/100\n",
      "1144/1144 [==============================] - 15s 13ms/step - loss: 2.2666 - accuracy: 0.5667\n",
      "Epoch 23/100\n",
      "1144/1144 [==============================] - 15s 13ms/step - loss: 2.2454 - accuracy: 0.5718\n",
      "Epoch 24/100\n",
      "1144/1144 [==============================] - 15s 13ms/step - loss: 2.2229 - accuracy: 0.5747\n",
      "Epoch 25/100\n",
      "1144/1144 [==============================] - 14s 13ms/step - loss: 2.2167 - accuracy: 0.5762\n",
      "Epoch 26/100\n",
      "1144/1144 [==============================] - 14s 13ms/step - loss: 2.1909 - accuracy: 0.5838\n",
      "Epoch 27/100\n",
      "1144/1144 [==============================] - 15s 13ms/step - loss: 2.1655 - accuracy: 0.5856\n",
      "Epoch 28/100\n",
      "1144/1144 [==============================] - 15s 13ms/step - loss: 2.1388 - accuracy: 0.5933\n",
      "Epoch 29/100\n",
      "1144/1144 [==============================] - 15s 13ms/step - loss: 2.1303 - accuracy: 0.5955\n",
      "Epoch 30/100\n",
      "1144/1144 [==============================] - 15s 13ms/step - loss: 2.1120 - accuracy: 0.5975\n",
      "Epoch 31/100\n",
      "1144/1144 [==============================] - 15s 13ms/step - loss: 2.0902 - accuracy: 0.6034\n",
      "Epoch 32/100\n",
      "1144/1144 [==============================] - 15s 13ms/step - loss: 2.0774 - accuracy: 0.6035\n",
      "Epoch 33/100\n",
      "1144/1144 [==============================] - 15s 13ms/step - loss: 2.0551 - accuracy: 0.6086\n",
      "Epoch 34/100\n",
      "1144/1144 [==============================] - 15s 13ms/step - loss: 2.0361 - accuracy: 0.6129\n",
      "Epoch 35/100\n",
      "1144/1144 [==============================] - 15s 13ms/step - loss: 2.0126 - accuracy: 0.6174\n",
      "Epoch 36/100\n",
      "1144/1144 [==============================] - 15s 13ms/step - loss: 2.0153 - accuracy: 0.6133\n",
      "Epoch 37/100\n",
      "1144/1144 [==============================] - 15s 13ms/step - loss: 1.9869 - accuracy: 0.6204\n",
      "Epoch 38/100\n",
      "1144/1144 [==============================] - 15s 13ms/step - loss: 1.9709 - accuracy: 0.6250\n",
      "Epoch 39/100\n",
      "1144/1144 [==============================] - 15s 13ms/step - loss: 1.9587 - accuracy: 0.6277\n",
      "Epoch 40/100\n",
      "1144/1144 [==============================] - 15s 13ms/step - loss: 1.9450 - accuracy: 0.6293\n",
      "Epoch 41/100\n",
      "1144/1144 [==============================] - 15s 13ms/step - loss: 1.9296 - accuracy: 0.6321\n",
      "Epoch 42/100\n",
      "1144/1144 [==============================] - 15s 13ms/step - loss: 1.9193 - accuracy: 0.6350\n",
      "Epoch 43/100\n",
      "1144/1144 [==============================] - 15s 13ms/step - loss: 1.8921 - accuracy: 0.6408\n",
      "Epoch 44/100\n",
      "1144/1144 [==============================] - 15s 13ms/step - loss: 1.8791 - accuracy: 0.6409\n",
      "Epoch 45/100\n",
      "1144/1144 [==============================] - 14s 12ms/step - loss: 1.8701 - accuracy: 0.6448\n",
      "Epoch 46/100\n",
      "1144/1144 [==============================] - 15s 13ms/step - loss: 1.8655 - accuracy: 0.6427\n",
      "Epoch 47/100\n",
      "1144/1144 [==============================] - 15s 13ms/step - loss: 1.8449 - accuracy: 0.6480\n",
      "Epoch 48/100\n",
      "1144/1144 [==============================] - 15s 13ms/step - loss: 1.8366 - accuracy: 0.6506\n",
      "Epoch 49/100\n",
      "1144/1144 [==============================] - 15s 13ms/step - loss: 1.8207 - accuracy: 0.6529\n",
      "Epoch 50/100\n",
      "1144/1144 [==============================] - 14s 13ms/step - loss: 1.8014 - accuracy: 0.6572\n",
      "Epoch 51/100\n",
      "1144/1144 [==============================] - 15s 13ms/step - loss: 1.7953 - accuracy: 0.6570\n",
      "Epoch 52/100\n",
      "1144/1144 [==============================] - 15s 13ms/step - loss: 1.7770 - accuracy: 0.6629\n",
      "Epoch 53/100\n",
      "1144/1144 [==============================] - 15s 13ms/step - loss: 1.7631 - accuracy: 0.6652\n",
      "Epoch 54/100\n",
      "1144/1144 [==============================] - 15s 13ms/step - loss: 1.7662 - accuracy: 0.6627\n",
      "Epoch 55/100\n",
      "1144/1144 [==============================] - 14s 12ms/step - loss: 1.7419 - accuracy: 0.6694\n",
      "Epoch 56/100\n",
      "1144/1144 [==============================] - 14s 12ms/step - loss: 1.7374 - accuracy: 0.6692\n",
      "Epoch 57/100\n",
      "1144/1144 [==============================] - 14s 13ms/step - loss: 1.7206 - accuracy: 0.6725\n",
      "Epoch 58/100\n",
      "1144/1144 [==============================] - 15s 13ms/step - loss: 1.7086 - accuracy: 0.6770\n",
      "Epoch 59/100\n",
      "1144/1144 [==============================] - 15s 13ms/step - loss: 1.7085 - accuracy: 0.6736\n",
      "Epoch 60/100\n",
      "1144/1144 [==============================] - 15s 14ms/step - loss: 1.6933 - accuracy: 0.6773\n",
      "Epoch 61/100\n",
      "1144/1144 [==============================] - 15s 13ms/step - loss: 1.6846 - accuracy: 0.6769\n",
      "Epoch 62/100\n",
      "1144/1144 [==============================] - 15s 13ms/step - loss: 1.6706 - accuracy: 0.6817\n",
      "Epoch 63/100\n",
      "1144/1144 [==============================] - 14s 13ms/step - loss: 1.6551 - accuracy: 0.6850\n",
      "Epoch 64/100\n",
      "1144/1144 [==============================] - 15s 13ms/step - loss: 1.6421 - accuracy: 0.6875\n",
      "Epoch 65/100\n",
      "1144/1144 [==============================] - 16s 14ms/step - loss: 1.6374 - accuracy: 0.6880\n",
      "Epoch 66/100\n",
      "1144/1144 [==============================] - 15s 13ms/step - loss: 1.6438 - accuracy: 0.6852\n",
      "Epoch 67/100\n",
      "1144/1144 [==============================] - 15s 13ms/step - loss: 1.6216 - accuracy: 0.6881\n",
      "Epoch 68/100\n",
      "1144/1144 [==============================] - 15s 13ms/step - loss: 1.6022 - accuracy: 0.6968\n",
      "Epoch 69/100\n",
      "1144/1144 [==============================] - 14s 12ms/step - loss: 1.6070 - accuracy: 0.6934\n",
      "Epoch 70/100\n",
      "1144/1144 [==============================] - 14s 12ms/step - loss: 1.5954 - accuracy: 0.6972\n",
      "Epoch 71/100\n",
      "1144/1144 [==============================] - 14s 12ms/step - loss: 1.5886 - accuracy: 0.6975\n",
      "Epoch 72/100\n",
      "1144/1144 [==============================] - 15s 13ms/step - loss: 1.5752 - accuracy: 0.6978\n",
      "Epoch 73/100\n",
      "1144/1144 [==============================] - 15s 13ms/step - loss: 1.5723 - accuracy: 0.7002\n",
      "Epoch 74/100\n",
      "1144/1144 [==============================] - 15s 13ms/step - loss: 1.5593 - accuracy: 0.7042\n",
      "Epoch 75/100\n",
      "1144/1144 [==============================] - 15s 13ms/step - loss: 1.5471 - accuracy: 0.7036\n",
      "Epoch 76/100\n",
      "1144/1144 [==============================] - 15s 13ms/step - loss: 1.5327 - accuracy: 0.7087\n",
      "Epoch 77/100\n",
      "1144/1144 [==============================] - 15s 13ms/step - loss: 1.5338 - accuracy: 0.7054\n",
      "Epoch 78/100\n",
      "1144/1144 [==============================] - 15s 13ms/step - loss: 1.5267 - accuracy: 0.7060\n",
      "Epoch 79/100\n",
      "1144/1144 [==============================] - 15s 13ms/step - loss: 1.5223 - accuracy: 0.7083\n",
      "Epoch 80/100\n",
      "1144/1144 [==============================] - 15s 13ms/step - loss: 1.5197 - accuracy: 0.7065\n",
      "Epoch 81/100\n",
      "1144/1144 [==============================] - 15s 13ms/step - loss: 1.4992 - accuracy: 0.7114\n",
      "Epoch 82/100\n",
      "1144/1144 [==============================] - 15s 13ms/step - loss: 1.5007 - accuracy: 0.7129\n",
      "Epoch 83/100\n",
      "1144/1144 [==============================] - 15s 13ms/step - loss: 1.4859 - accuracy: 0.7138\n",
      "Epoch 84/100\n",
      "1144/1144 [==============================] - 15s 13ms/step - loss: 1.4844 - accuracy: 0.7150\n",
      "Epoch 85/100\n",
      "1144/1144 [==============================] - 15s 13ms/step - loss: 1.4801 - accuracy: 0.7145\n",
      "Epoch 86/100\n",
      "1144/1144 [==============================] - 15s 13ms/step - loss: 1.4733 - accuracy: 0.7175\n",
      "Epoch 87/100\n",
      "1144/1144 [==============================] - 15s 13ms/step - loss: 1.4530 - accuracy: 0.7207\n",
      "Epoch 88/100\n",
      "1144/1144 [==============================] - 15s 13ms/step - loss: 1.4550 - accuracy: 0.7165\n",
      "Epoch 89/100\n",
      "1144/1144 [==============================] - 15s 13ms/step - loss: 1.4432 - accuracy: 0.7242\n",
      "Epoch 90/100\n",
      "1144/1144 [==============================] - 15s 13ms/step - loss: 1.4430 - accuracy: 0.7230\n",
      "Epoch 91/100\n",
      "1144/1144 [==============================] - 15s 13ms/step - loss: 1.4300 - accuracy: 0.7254\n",
      "Epoch 92/100\n",
      "1144/1144 [==============================] - 15s 13ms/step - loss: 1.4228 - accuracy: 0.7259\n",
      "Epoch 93/100\n",
      "1144/1144 [==============================] - 14s 13ms/step - loss: 1.4303 - accuracy: 0.7245\n",
      "Epoch 94/100\n",
      "1144/1144 [==============================] - 14s 12ms/step - loss: 1.4291 - accuracy: 0.7243\n",
      "Epoch 95/100\n",
      "1144/1144 [==============================] - 14s 12ms/step - loss: 1.4078 - accuracy: 0.7283\n",
      "Epoch 96/100\n",
      "1144/1144 [==============================] - 14s 13ms/step - loss: 1.3972 - accuracy: 0.7311\n",
      "Epoch 97/100\n",
      "1144/1144 [==============================] - 15s 13ms/step - loss: 1.3937 - accuracy: 0.7324\n",
      "Epoch 98/100\n",
      "1144/1144 [==============================] - 15s 13ms/step - loss: 1.3897 - accuracy: 0.7307\n",
      "Epoch 99/100\n",
      "1144/1144 [==============================] - 15s 13ms/step - loss: 1.3881 - accuracy: 0.7315\n",
      "Epoch 100/100\n",
      "1144/1144 [==============================] - 15s 13ms/step - loss: 1.3816 - accuracy: 0.7326\n"
     ]
    }
   ],
   "source": [
    "history = model.fit(predictors, label, epochs = 100)"
   ]
  },
  {
   "cell_type": "code",
   "execution_count": 64,
   "id": "e064d6db",
   "metadata": {
    "ExecuteTime": {
     "end_time": "2022-02-13T21:13:40.854521Z",
     "start_time": "2022-02-13T21:13:40.652475Z"
    },
    "scrolled": true
   },
   "outputs": [
    {
     "data": {
      "image/png": "[encoded data removed]",
      "text/plain": [
       "<Figure size 432x288 with 1 Axes>"
      ]
     },
     "metadata": {
      "needs_background": "light"
     },
     "output_type": "display_data"
    },
    {
     "data": {
      "image/png": "[encoded data removed]",
      "text/plain": [
       "<Figure size 432x288 with 1 Axes>"
      ]
     },
     "metadata": {
      "needs_background": "light"
     },
     "output_type": "display_data"
    }
   ],
   "source": [
    "acc = history.history['accuracy']\n",
    "loss = history.history['loss']\n",
    "\n",
    "epochs = range(len(acc))\n",
    "\n",
    "plt.plot(epochs, acc, 'b', label='Training accuracy')\n",
    "plt.title('Training accuracy')\n",
    "\n",
    "plt.figure()\n",
    "\n",
    "plt.plot(epochs, loss, 'b', label='Training Loss')\n",
    "plt.title('Training loss')\n",
    "plt.legend()\n",
    "\n",
    "plt.show()"
   ]
  },
  {
   "cell_type": "code",
   "execution_count": 65,
   "id": "3cb58b38",
   "metadata": {
    "ExecuteTime": {
     "end_time": "2022-02-13T21:14:01.919262Z",
     "start_time": "2022-02-13T21:13:40.887528Z"
    }
   },
   "outputs": [
    {
     "name": "stdout",
     "output_type": "stream",
     "text": [
      "I did it all 'cause it feel good niggas this oh never ever wake up wit' it people the projects gave her an explanation bitch ayy all in love got rich because i got bitches okay enough to the morning time of this house that dap vents hell fuckin' with a guarantee village five foot loud i'm is huey newton going stupid and be shows that's an eyes work fire crazy in the mirror there be could move you feel now okay do a bitch nigga what you want to do with my finger got ya will bring no body or go he gon' lose in your pockets gonna sin again by this shit that you're miseducated losin' it another nigga 'bout do to those person be in the homies i'll be bothered fill up one or turned one real gave the night fuck god ain't impress me in your name in this way too say god never like friends fill room with being an option writer probably ok that nigga bitch love your mother collect be out inside off fear some york fitted jordan reason got an automatic weapon sit your feelings you ever forget ya body told no outfit most of mines and you good ass money inside my biggest racist party hol' up ain't some r i p aaliyah boys ya bish ya bish ya bish ya bish ya bish ya bish ya bish ya head to be look around game ass because still never put sure tell it i ain't never approach them niggas that we say where it from that nigga let's get it out and it bless you shalom you know my loss is worth more than your pain i'll buy it my wrongs we not because to stack too small fu 80 babies here that i'm a short term goal for me that natural 'cause hell no mo' fear home because that bitch where you too radars is petty that rot inside my dna let me do this question nigga when i write him don't dealt inside your face or laugh against it with a batch of gun say you got a blow p york of bad health passed on new hour i'mma truly clock and said flock of arron afflalo devilish blocks and that's beamin' and love me when i'm lookin' at me tell me what i'm could you still ride different you wanna say shit you still a tourist a tourist a tourist a tourist a tourist in heaven nigga got some activist i'm die to disintegrate their similes stressing me getting every time i write two puffs nigga i can smoke fear away he loves you we wanna be remembered that means it but the edge of the extras and the mirror and that we're too blood in god prosper benjamin ain't cool here right y lean fire fire out two for this house sign you that don't even y'all never said you're goes back do do be different lust got could die\n"
     ]
    }
   ],
   "source": [
    "seed_text = \"I did it\"\n",
    "next_words = 500\n",
    "  \n",
    "for _ in range(next_words):\n",
    "    token_list = tokenizer.texts_to_sequences([seed_text])[0]\n",
    "    token_list = pad_sequences([token_list], maxlen=max_sequence_len-1, padding='pre')\n",
    "    predicted = np.argmax(model.predict(token_list), axis=-1)\n",
    "    \n",
    "    output_word = \"\"\n",
    "    for word, index in tokenizer.word_index.items():\n",
    "        if index == predicted:\n",
    "            output_word = word\n",
    "            break\n",
    "    seed_text += \" \" + output_word\n",
    "print(seed_text)"
   ]
  }
 ],
 "metadata": {
  "kernelspec": {
   "display_name": "Python 3 (ipykernel)",
   "language": "python",
   "name": "python3"
  },
  "language_info": {
   "codemirror_mode": {
    "name": "ipython",
    "version": 3
   },
   "file_extension": ".py",
   "mimetype": "text/x-python",
   "name": "python",
   "nbconvert_exporter": "python",
   "pygments_lexer": "ipython3",
   "version": "3.8.8"
  },
  "toc": {
   "base_numbering": 1,
   "nav_menu": {},
   "number_sections": true,
   "sideBar": true,
   "skip_h1_title": false,
   "title_cell": "Table of Contents",
   "title_sidebar": "Contents",
   "toc_cell": false,
   "toc_position": {},
   "toc_section_display": true,
   "toc_window_display": false
  },
  "varInspector": {
   "cols": {
    "lenName": 16,
    "lenType": 16,
    "lenVar": 40
   },
   "kernels_config": {
    "python": {
     "delete_cmd_postfix": "",
     "delete_cmd_prefix": "del ",
     "library": "var_list.py",
     "varRefreshCmd": "print(var_dic_list())"
    },
    "r": {
     "delete_cmd_postfix": ") ",
     "delete_cmd_prefix": "rm(",
     "library": "var_list.r",
     "varRefreshCmd": "cat(var_dic_list()) "
    }
   },
   "types_to_exclude": [
    "module",
    "function",
    "builtin_function_or_method",
    "instance",
    "_Feature"
   ],
   "window_display": false
  }
 },
 "nbformat": 4,
 "nbformat_minor": 5
}
